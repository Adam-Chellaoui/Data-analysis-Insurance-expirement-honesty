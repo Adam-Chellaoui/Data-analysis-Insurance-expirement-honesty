{
 "cells": [
  {
   "cell_type": "markdown",
   "metadata": {},
   "source": [
    "# Homework 1 (HW1)\n",
    "\n",
    "---\n",
    "By the end of this homework we expect you to be able to:\n",
    "1. Load data from different formats using [pandas](https://pandas.pydata.org/);\n",
    "2. Navigate the documentation of Python packages by yourself;\n",
    "3. Filter and tidy up noisy data sets;\n",
    "4. Aggregate your data in different (and hopefully helpful) ways; \n",
    "5. Create meaningful visualizations to analyze the data;\n",
    "6. Critically think and write about data;\n",
    "---\n",
    "\n",
    "## Important Dates\n",
    "\n",
    "- Homework release: Fri 8 Oct 2021\n",
    "- **Homework due**: Fri 22 Oct 2021, 23:59\n",
    "- Grade release: Fri 29 Oct 2021\n",
    "\n",
    "---\n",
    "\n",
    "##  Some rules\n",
    "\n",
    "1. You are allowed to use any built-in Python library that comes with Anaconda. If you want to use an external library, \n",
    "you may do so, but must justify your choice.\n",
    "2. Make sure you use the `data` folder provided in the repository in read-only mode. (Or alternatively, be sure you \n",
    "don’t change any of the files.)\n",
    "3. Be sure to provide a textual description of your thought process, the assumptions you made, the solution you \n",
    "implemented, and explanations for your answers. A notebook that only has code cells will not suffice.\n",
    "4. For questions containing the **/Discuss:/** prefix, answer not with code, but with a textual explanation\n",
    " (**in markdown**).\n",
    "5. Back up any hypotheses and claims with data, since this is an important aspect of the course.\n",
    "6. Please write all your comments in English, and use meaningful variable names in your code. Your repo should have a \n",
    "single notebook (plus the required data files) in the *master/main* branch. If there are multiple notebooks present, \n",
    "we will **not grade** anything.\n",
    "7. We will **not run your notebook for you**! Rather, we will grade it as is, which means that only the results \n",
    "contained in your evaluated code cells will be considered, and we will not see the results in unevaluated code cells. \n",
    "Thus, be sure to hand in a **fully-run and evaluated notebook**. In order to check whether everything looks as intended,\n",
    " you can check the rendered notebook on the GitHub website once you have pushed your solution there.\n",
    "8. In continuation to the previous point, interactive plots, such as those generated using `plotly`, should be \n",
    "**strictly avoided**!\n",
    "9. Make sure to print results or dataframes that confirm you have properly addressed the task.\n",
    "\n",
    "---\n",
    "\n",
    "## Context\n",
    "\n",
    "In this project, we are going to analyze data from an experiment about *honesty*. \n",
    "Oftentimes, we are asked to confirm our honest intentions by signing **at the end** of a document. \n",
    "For example, in tax returns or insurance policy forms, we are often asked to sign our names under a text that reads \n",
    "something like \"I hereby certify that the above statements are true and correct to the best of my knowledge.\"\n",
    "\n",
    "However, when individuals sign **after** lying in the form, they may not feel the need to correct the falsehoods they \n",
    "have reported. In that context, it could be that signing at **the beginning** rather than at the end of the document \n",
    "would decrease dishonesty, as those who are filling the form would be aware of the ethical requirements *before* they \n",
    "provide the information in the form.\n",
    "\n",
    "This intuition has led researchers to partner up with a motorcycle insurance company to run a randomized experiment. \n",
    "In this insurance company (as well as in many others), customers had to report the exact *odometer kilometrage*¹ in \n",
    "order for the company to adjust the insurance premiums. Note that motorcycles with lower kilometrage are less likely to \n",
    "have issues, and thus will result in a lower *insurance premium*². Therefore, customers have an incentive to lie, \n",
    "reporting a kilometrage lower than the real value, in order to save money.\n",
    "\n",
    "In the experiment, two different forms were created: one where the signing was done at the end, and another where the \n",
    "signing was done at the beginning. The insurance company then randomized these forms (i.e., each customer received\n",
    " exactly one form, each with probability 50%) and sent back the data that customers had provided. Some noteworthy \n",
    " details on the experiment are that:\n",
    "\n",
    "- All customers involved in the experiment already had a contract with the company and were simply renewing it. \n",
    "In the data that the company provided, they also report the odometer kilometrage for their previous contract.\n",
    "Each policy, therefore, contains two contracts: the \"updated\" contract —where the experiment was conducted— and \n",
    "the \"baseline\" contract, which was the previous contract customers had with the company.\n",
    "- A single insurance policy can insure up to 4 distinct motorcycles.\n",
    "\n",
    "In this assignment, you will take the role of the researcher and work analyzing this data!\n",
    "\n",
    "*Glossary:*\n",
    "1. **odometer kilometrage:** the total distance the motorcycle has traveled.\n",
    "2. **insurance premiums:** the amount of money one pays for an insurance policy.\n",
    "\n",
    "---\n",
    "\n",
    "## The data\n",
    "\n",
    "The company provided you with a compressed `.tsv` file containing one row per policy. \n",
    "The `.tsv` has the following fields:\n",
    "\n",
    "- `condition`: either `Sign Top` or `Sign Bottom`, depending on which form was sent.\n",
    "- `id`: unique identifier for each insurance policy.\n",
    "- `motorcycle_count`: number of motorcycles covered by the insurance policy.\n",
    "- `baseline_motorcycle[1-4]`: odometer kilometrage *reported by the customer* in the *previous (baseline)* contract. \n",
    "- `update_motorcycle[1-4]`: odometer kilometrage *reported by the customer* in the *current (updated)* contract.\n",
    "\n",
    "Some comments:\n",
    "\n",
    "- Recall that a single policy can ensure up to 4 motorcycles, and thus, the suffixes [1-4] indicate that there are 4 \n",
    "versions of these columns in the data (e.g., `baseline_motorcycle1`, `baseline_motorcycle2`, `baseline_motorcycle3`, \n",
    "`baseline_motorcycle4`). \n",
    "- When a policy has fewer than 4 motorcycles, only the columns with the smaller numerals are filled (e.g., if a policy \n",
    "insures one motorcycle,  only `baseline_motorcycle1` and `update_motorcycle1` will be filled).\n",
    "- Note that we only have access to the odometer kilometrage reported by the customers, \n",
    "which may be different from the real kilometrage of the motorcycles."
   ]
  },
  {
   "cell_type": "code",
   "execution_count": 1,
   "metadata": {},
   "outputs": [],
   "source": [
    "# Imports you may need\n",
    "import seaborn as sns\n",
    "from IPython.display import display, HTML\n",
    "import matplotlib.pyplot as plt\n",
    "import scipy.stats as stats\n",
    "import pandas as pd\n",
    "import numpy as np"
   ]
  },
  {
   "cell_type": "markdown",
   "metadata": {},
   "source": [
    "### **Task 1** — 4pts\n",
    "\n",
    "Your first task is to load the dataset into memory using pandas. \n",
    "**You should load the data directly from the compressed files.**\n",
    "\n",
    "Here, the files at hand are rather small, and you could easily uncompress the files to disk and work with them as plain \n",
    "text. Why, then, are we asking you to load the files compressed? The reason is that, in your life as a data scientist, \n",
    "this will often not be the case. Then, working with compressed files is key so that you don't receive email from your \n",
    "(often more responsible) colleagues demanding to know how you have managed to fill the entire cluster with your \n",
    "datasets. Another big advantage of compressing files is to simply read files faster. You will often find that reading\n",
    "compressed data on the fly (uncompressing it as you go), is much faster than reading uncompressed data, since reading\n",
    "and writing to disk may be your [bottleneck](https://skipperkongen.dk/2012/02/28/uncompressed-versus-compressed-read/). \n",
    "\n",
    "---\n",
    "\n",
    "**Hint:** `pandas` can open compressed files.\n",
    "\n",
    "**Hint:** In the real world (and in ADA-homework), your file often comes with some weird lines! \n",
    "This time you can safely ignore them (but in the real world you must try to understand why they are there!). \n",
    "Check the `error_bad_lines` or the `on_bad_lines` (depending on your pandas version) parameter on `read_csv`."
   ]
  },
  {
   "cell_type": "code",
   "execution_count": 2,
   "metadata": {},
   "outputs": [
    {
     "name": "stderr",
     "output_type": "stream",
     "text": [
      "b'Skipping line 2142: expected 11 fields, saw 27\\n'\n"
     ]
    },
    {
     "data": {
      "text/html": [
       "<div>\n",
       "<style scoped>\n",
       "    .dataframe tbody tr th:only-of-type {\n",
       "        vertical-align: middle;\n",
       "    }\n",
       "\n",
       "    .dataframe tbody tr th {\n",
       "        vertical-align: top;\n",
       "    }\n",
       "\n",
       "    .dataframe thead th {\n",
       "        text-align: right;\n",
       "    }\n",
       "</style>\n",
       "<table border=\"1\" class=\"dataframe\">\n",
       "  <thead>\n",
       "    <tr style=\"text-align: right;\">\n",
       "      <th></th>\n",
       "      <th>condition</th>\n",
       "      <th>id</th>\n",
       "      <th>baseline_motorcycle1</th>\n",
       "      <th>update_motorcycle1</th>\n",
       "      <th>baseline_motorcycle2</th>\n",
       "      <th>update_motorcycle2</th>\n",
       "      <th>baseline_motorcycle3</th>\n",
       "      <th>update_motorcycle3</th>\n",
       "      <th>baseline_motorcycle4</th>\n",
       "      <th>update_motorcycle4</th>\n",
       "      <th>motorcycle_count</th>\n",
       "    </tr>\n",
       "  </thead>\n",
       "  <tbody>\n",
       "    <tr>\n",
       "      <th>0</th>\n",
       "      <td>Sign Top</td>\n",
       "      <td>1</td>\n",
       "      <td>896</td>\n",
       "      <td>39198</td>\n",
       "      <td>NaN</td>\n",
       "      <td>NaN</td>\n",
       "      <td>NaN</td>\n",
       "      <td>NaN</td>\n",
       "      <td>NaN</td>\n",
       "      <td>NaN</td>\n",
       "      <td>1</td>\n",
       "    </tr>\n",
       "    <tr>\n",
       "      <th>1</th>\n",
       "      <td>Sign Bottom</td>\n",
       "      <td>2</td>\n",
       "      <td>21396</td>\n",
       "      <td>63511</td>\n",
       "      <td>32659.0</td>\n",
       "      <td>47605.0</td>\n",
       "      <td>NaN</td>\n",
       "      <td>NaN</td>\n",
       "      <td>NaN</td>\n",
       "      <td>NaN</td>\n",
       "      <td>2</td>\n",
       "    </tr>\n",
       "    <tr>\n",
       "      <th>2</th>\n",
       "      <td>Sign Bottom</td>\n",
       "      <td>3</td>\n",
       "      <td>21340</td>\n",
       "      <td>37460</td>\n",
       "      <td>44998.0</td>\n",
       "      <td>59002.0</td>\n",
       "      <td>NaN</td>\n",
       "      <td>NaN</td>\n",
       "      <td>NaN</td>\n",
       "      <td>NaN</td>\n",
       "      <td>2</td>\n",
       "    </tr>\n",
       "    <tr>\n",
       "      <th>3</th>\n",
       "      <td>Sign Bottom</td>\n",
       "      <td>4</td>\n",
       "      <td>23912</td>\n",
       "      <td>59136</td>\n",
       "      <td>NaN</td>\n",
       "      <td>NaN</td>\n",
       "      <td>NaN</td>\n",
       "      <td>NaN</td>\n",
       "      <td>NaN</td>\n",
       "      <td>NaN</td>\n",
       "      <td>1</td>\n",
       "    </tr>\n",
       "    <tr>\n",
       "      <th>4</th>\n",
       "      <td>Sign Bottom</td>\n",
       "      <td>5</td>\n",
       "      <td>16862</td>\n",
       "      <td>59292</td>\n",
       "      <td>NaN</td>\n",
       "      <td>NaN</td>\n",
       "      <td>NaN</td>\n",
       "      <td>NaN</td>\n",
       "      <td>NaN</td>\n",
       "      <td>NaN</td>\n",
       "      <td>1</td>\n",
       "    </tr>\n",
       "    <tr>\n",
       "      <th>5</th>\n",
       "      <td>Sign Top</td>\n",
       "      <td>6</td>\n",
       "      <td>147738</td>\n",
       "      <td>167895</td>\n",
       "      <td>125820.0</td>\n",
       "      <td>164688.0</td>\n",
       "      <td>NaN</td>\n",
       "      <td>NaN</td>\n",
       "      <td>NaN</td>\n",
       "      <td>NaN</td>\n",
       "      <td>2</td>\n",
       "    </tr>\n",
       "    <tr>\n",
       "      <th>6</th>\n",
       "      <td>Sign Bottom</td>\n",
       "      <td>7</td>\n",
       "      <td>18780</td>\n",
       "      <td>49811</td>\n",
       "      <td>45402.0</td>\n",
       "      <td>54824.0</td>\n",
       "      <td>NaN</td>\n",
       "      <td>NaN</td>\n",
       "      <td>NaN</td>\n",
       "      <td>NaN</td>\n",
       "      <td>2</td>\n",
       "    </tr>\n",
       "    <tr>\n",
       "      <th>7</th>\n",
       "      <td>Sign Top</td>\n",
       "      <td>8</td>\n",
       "      <td>41930</td>\n",
       "      <td>80323</td>\n",
       "      <td>181416.0</td>\n",
       "      <td>229852.0</td>\n",
       "      <td>NaN</td>\n",
       "      <td>NaN</td>\n",
       "      <td>NaN</td>\n",
       "      <td>NaN</td>\n",
       "      <td>2</td>\n",
       "    </tr>\n",
       "    <tr>\n",
       "      <th>8</th>\n",
       "      <td>Sign Top</td>\n",
       "      <td>9</td>\n",
       "      <td>28993</td>\n",
       "      <td>63707</td>\n",
       "      <td>13291.0</td>\n",
       "      <td>28165.0</td>\n",
       "      <td>NaN</td>\n",
       "      <td>NaN</td>\n",
       "      <td>NaN</td>\n",
       "      <td>NaN</td>\n",
       "      <td>2</td>\n",
       "    </tr>\n",
       "    <tr>\n",
       "      <th>9</th>\n",
       "      <td>Sign Bottom</td>\n",
       "      <td>10</td>\n",
       "      <td>78382</td>\n",
       "      <td>127817</td>\n",
       "      <td>NaN</td>\n",
       "      <td>NaN</td>\n",
       "      <td>NaN</td>\n",
       "      <td>NaN</td>\n",
       "      <td>NaN</td>\n",
       "      <td>NaN</td>\n",
       "      <td>1</td>\n",
       "    </tr>\n",
       "  </tbody>\n",
       "</table>\n",
       "</div>"
      ],
      "text/plain": [
       "     condition  id  baseline_motorcycle1  update_motorcycle1  \\\n",
       "0     Sign Top   1                   896               39198   \n",
       "1  Sign Bottom   2                 21396               63511   \n",
       "2  Sign Bottom   3                 21340               37460   \n",
       "3  Sign Bottom   4                 23912               59136   \n",
       "4  Sign Bottom   5                 16862               59292   \n",
       "5     Sign Top   6                147738              167895   \n",
       "6  Sign Bottom   7                 18780               49811   \n",
       "7     Sign Top   8                 41930               80323   \n",
       "8     Sign Top   9                 28993               63707   \n",
       "9  Sign Bottom  10                 78382              127817   \n",
       "\n",
       "   baseline_motorcycle2  update_motorcycle2  baseline_motorcycle3  \\\n",
       "0                   NaN                 NaN                   NaN   \n",
       "1               32659.0             47605.0                   NaN   \n",
       "2               44998.0             59002.0                   NaN   \n",
       "3                   NaN                 NaN                   NaN   \n",
       "4                   NaN                 NaN                   NaN   \n",
       "5              125820.0            164688.0                   NaN   \n",
       "6               45402.0             54824.0                   NaN   \n",
       "7              181416.0            229852.0                   NaN   \n",
       "8               13291.0             28165.0                   NaN   \n",
       "9                   NaN                 NaN                   NaN   \n",
       "\n",
       "   update_motorcycle3  baseline_motorcycle4  update_motorcycle4  \\\n",
       "0                 NaN                   NaN                 NaN   \n",
       "1                 NaN                   NaN                 NaN   \n",
       "2                 NaN                   NaN                 NaN   \n",
       "3                 NaN                   NaN                 NaN   \n",
       "4                 NaN                   NaN                 NaN   \n",
       "5                 NaN                   NaN                 NaN   \n",
       "6                 NaN                   NaN                 NaN   \n",
       "7                 NaN                   NaN                 NaN   \n",
       "8                 NaN                   NaN                 NaN   \n",
       "9                 NaN                   NaN                 NaN   \n",
       "\n",
       "   motorcycle_count  \n",
       "0                 1  \n",
       "1                 2  \n",
       "2                 2  \n",
       "3                 1  \n",
       "4                 1  \n",
       "5                 2  \n",
       "6                 2  \n",
       "7                 2  \n",
       "8                 2  \n",
       "9                 1  "
      ]
     },
     "execution_count": 2,
     "metadata": {},
     "output_type": "execute_result"
    }
   ],
   "source": [
    "data_folder = './data/'\n",
    "df = pd.read_csv(data_folder + 'data.tsv.gz', delimiter='\\t', compression='gzip', error_bad_lines=False)\n",
    "df.head(10)"
   ]
  },
  {
   "cell_type": "markdown",
   "metadata": {},
   "source": [
    "### Task 2 — 12pts\n",
    "\n",
    "As a good data scientist, the first thing you do is to clean up the data and perform some small sanity checks.\n",
    "\n",
    "1. The motorcycle insurance company mentioned that each policy has a unique identifier, but that there may be duplicate \n",
    "rows (i.e., multiple rows with the same policy identifier). Check if there are duplicate policies and, if so, filter \n",
    "these rows from the data (always keeping the first).\n",
    "\n",
    "2. According to the company, all policies should have kept the number of motorcycles from the previous contract (i.e., \n",
    "the number of motorcycles recorded in baseline contracts should equal the number of motorcycles in updated contracts). \n",
    "Also, the number of odometer readings for each contract should be the same as the number stated in the \n",
    "`motorcycle_count` variable. Check the data to see if these two things hold. If not, filter the anomalous rows.\n",
    "\n",
    "3. Calculate the mean and the median value of each column related to kilometrages. Are the values obtained plausible? \n",
    "Visualize the distribution of the data and remove any extreme outliers.\n",
    "\n",
    "4. **Discuss:** In cases where you cannot think of appropriate ways to remove outliers, would you prefer summarizing \n",
    "numerical data with outliers with the mean or the median? Why?\n",
    "\n",
    "---\n",
    "\n",
    "**Hint:** Here we are considering as outliers numbers that are not plausible in the context of motorcycle kilometrages."
   ]
  },
  {
   "cell_type": "markdown",
   "metadata": {},
   "source": [
    "### 2.1"
   ]
  },
  {
   "cell_type": "code",
   "execution_count": 3,
   "metadata": {},
   "outputs": [
    {
     "name": "stdout",
     "output_type": "stream",
     "text": [
      "unique id:  False\n",
      "Before Cleaning up the id's :\n",
      "entries:  13497\n",
      "After Cleaning up the id's :\n",
      "entries:  13488\n",
      "unique id:  True\n"
     ]
    }
   ],
   "source": [
    "print('unique id: ', df['id'].is_unique)\n",
    "print(\"Before Cleaning up the id's :\")\n",
    "print(\"entries: \", len(df))\n",
    "print(\"After Cleaning up the id's :\")\n",
    "df.drop_duplicates(subset=['id'], keep='first', inplace=True)\n",
    "print(\"entries: \", len(df))\n",
    "print('unique id: ', df['id'].is_unique)"
   ]
  },
  {
   "cell_type": "markdown",
   "metadata": {},
   "source": [
    "### 2.2"
   ]
  },
  {
   "cell_type": "code",
   "execution_count": 4,
   "metadata": {},
   "outputs": [
    {
     "name": "stdout",
     "output_type": "stream",
     "text": [
      "entries:  13488\n",
      "entries:  13488\n"
     ]
    }
   ],
   "source": [
    "baseline = df[['baseline_motorcycle1', 'baseline_motorcycle2', 'baseline_motorcycle3', 'baseline_motorcycle4']]\n",
    "updated = df[['update_motorcycle1', 'update_motorcycle2', 'update_motorcycle3', 'update_motorcycle4']]\n",
    "df = df.loc[(updated.count(axis=1) == baseline.count(axis=1))]\n",
    "print(\"entries: \", len(df))\n",
    "df = df.loc[(updated.count(axis=1) == df['motorcycle_count'])]\n",
    "print(\"entries: \", len(df))\n"
   ]
  },
  {
   "cell_type": "markdown",
   "metadata": {},
   "source": [
    "Moreover, we noticed that there were non-contiguous entries in the dataset, for exemple entries for a motorcycle 1 and a motorcycle 4, but no motorcycle 2 or 3.\n",
    "\n",
    "\n",
    "Even though those entries are not well fitted in the dataset, we decided to keep them because they have no effects in the frame of our study."
   ]
  },
  {
   "cell_type": "markdown",
   "metadata": {},
   "source": [
    "### 2.3"
   ]
  },
  {
   "cell_type": "code",
   "execution_count": 5,
   "metadata": {},
   "outputs": [
    {
     "data": {
      "text/html": [
       "<div>\n",
       "<style scoped>\n",
       "    .dataframe tbody tr th:only-of-type {\n",
       "        vertical-align: middle;\n",
       "    }\n",
       "\n",
       "    .dataframe tbody tr th {\n",
       "        vertical-align: top;\n",
       "    }\n",
       "\n",
       "    .dataframe thead th {\n",
       "        text-align: right;\n",
       "    }\n",
       "</style>\n",
       "<table border=\"1\" class=\"dataframe\">\n",
       "  <thead>\n",
       "    <tr style=\"text-align: right;\">\n",
       "      <th></th>\n",
       "      <th>id</th>\n",
       "      <th>baseline_motorcycle1</th>\n",
       "      <th>update_motorcycle1</th>\n",
       "      <th>baseline_motorcycle2</th>\n",
       "      <th>update_motorcycle2</th>\n",
       "      <th>baseline_motorcycle3</th>\n",
       "      <th>update_motorcycle3</th>\n",
       "      <th>baseline_motorcycle4</th>\n",
       "      <th>update_motorcycle4</th>\n",
       "      <th>motorcycle_count</th>\n",
       "    </tr>\n",
       "  </thead>\n",
       "  <tbody>\n",
       "    <tr>\n",
       "      <th>count</th>\n",
       "      <td>1.348800e+04</td>\n",
       "      <td>1.348800e+04</td>\n",
       "      <td>1.348800e+04</td>\n",
       "      <td>5.648000e+03</td>\n",
       "      <td>5.648000e+03</td>\n",
       "      <td>1277.000000</td>\n",
       "      <td>1277.000000</td>\n",
       "      <td>326.000000</td>\n",
       "      <td>326.000000</td>\n",
       "      <td>13488.000000</td>\n",
       "    </tr>\n",
       "    <tr>\n",
       "      <th>mean</th>\n",
       "      <td>7.403514e+03</td>\n",
       "      <td>7.413998e+14</td>\n",
       "      <td>7.413998e+14</td>\n",
       "      <td>6.732597e+04</td>\n",
       "      <td>9.227763e+04</td>\n",
       "      <td>67657.320282</td>\n",
       "      <td>92849.408771</td>\n",
       "      <td>67827.975460</td>\n",
       "      <td>93374.279141</td>\n",
       "      <td>1.537589</td>\n",
       "    </tr>\n",
       "    <tr>\n",
       "      <th>std</th>\n",
       "      <td>7.657835e+04</td>\n",
       "      <td>8.610457e+16</td>\n",
       "      <td>8.610457e+16</td>\n",
       "      <td>6.022646e+04</td>\n",
       "      <td>6.188369e+04</td>\n",
       "      <td>64419.001860</td>\n",
       "      <td>66547.920222</td>\n",
       "      <td>54610.217241</td>\n",
       "      <td>56345.386070</td>\n",
       "      <td>0.614145</td>\n",
       "    </tr>\n",
       "    <tr>\n",
       "      <th>min</th>\n",
       "      <td>1.000000e+00</td>\n",
       "      <td>0.000000e+00</td>\n",
       "      <td>4.200000e+01</td>\n",
       "      <td>0.000000e+00</td>\n",
       "      <td>1.160000e+02</td>\n",
       "      <td>0.000000</td>\n",
       "      <td>155.000000</td>\n",
       "      <td>0.000000</td>\n",
       "      <td>622.000000</td>\n",
       "      <td>1.000000</td>\n",
       "    </tr>\n",
       "    <tr>\n",
       "      <th>25%</th>\n",
       "      <td>3.373750e+03</td>\n",
       "      <td>2.528125e+04</td>\n",
       "      <td>5.009600e+04</td>\n",
       "      <td>2.449825e+04</td>\n",
       "      <td>4.988875e+04</td>\n",
       "      <td>18500.000000</td>\n",
       "      <td>43872.000000</td>\n",
       "      <td>14284.750000</td>\n",
       "      <td>41525.500000</td>\n",
       "      <td>1.000000</td>\n",
       "    </tr>\n",
       "    <tr>\n",
       "      <th>50%</th>\n",
       "      <td>6.745500e+03</td>\n",
       "      <td>5.634150e+04</td>\n",
       "      <td>8.239750e+04</td>\n",
       "      <td>5.615750e+04</td>\n",
       "      <td>8.206100e+04</td>\n",
       "      <td>58821.000000</td>\n",
       "      <td>85645.000000</td>\n",
       "      <td>68181.000000</td>\n",
       "      <td>93387.500000</td>\n",
       "      <td>1.000000</td>\n",
       "    </tr>\n",
       "    <tr>\n",
       "      <th>75%</th>\n",
       "      <td>1.011725e+04</td>\n",
       "      <td>9.625925e+04</td>\n",
       "      <td>1.233340e+05</td>\n",
       "      <td>9.700000e+04</td>\n",
       "      <td>1.221915e+05</td>\n",
       "      <td>100000.000000</td>\n",
       "      <td>128037.000000</td>\n",
       "      <td>106882.000000</td>\n",
       "      <td>128940.500000</td>\n",
       "      <td>2.000000</td>\n",
       "    </tr>\n",
       "    <tr>\n",
       "      <th>max</th>\n",
       "      <td>8.888888e+06</td>\n",
       "      <td>1.000000e+19</td>\n",
       "      <td>1.000000e+19</td>\n",
       "      <td>1.000581e+06</td>\n",
       "      <td>1.030915e+06</td>\n",
       "      <td>884594.000000</td>\n",
       "      <td>931105.000000</td>\n",
       "      <td>217715.000000</td>\n",
       "      <td>244658.000000</td>\n",
       "      <td>4.000000</td>\n",
       "    </tr>\n",
       "  </tbody>\n",
       "</table>\n",
       "</div>"
      ],
      "text/plain": [
       "                 id  baseline_motorcycle1  update_motorcycle1  \\\n",
       "count  1.348800e+04          1.348800e+04        1.348800e+04   \n",
       "mean   7.403514e+03          7.413998e+14        7.413998e+14   \n",
       "std    7.657835e+04          8.610457e+16        8.610457e+16   \n",
       "min    1.000000e+00          0.000000e+00        4.200000e+01   \n",
       "25%    3.373750e+03          2.528125e+04        5.009600e+04   \n",
       "50%    6.745500e+03          5.634150e+04        8.239750e+04   \n",
       "75%    1.011725e+04          9.625925e+04        1.233340e+05   \n",
       "max    8.888888e+06          1.000000e+19        1.000000e+19   \n",
       "\n",
       "       baseline_motorcycle2  update_motorcycle2  baseline_motorcycle3  \\\n",
       "count          5.648000e+03        5.648000e+03           1277.000000   \n",
       "mean           6.732597e+04        9.227763e+04          67657.320282   \n",
       "std            6.022646e+04        6.188369e+04          64419.001860   \n",
       "min            0.000000e+00        1.160000e+02              0.000000   \n",
       "25%            2.449825e+04        4.988875e+04          18500.000000   \n",
       "50%            5.615750e+04        8.206100e+04          58821.000000   \n",
       "75%            9.700000e+04        1.221915e+05         100000.000000   \n",
       "max            1.000581e+06        1.030915e+06         884594.000000   \n",
       "\n",
       "       update_motorcycle3  baseline_motorcycle4  update_motorcycle4  \\\n",
       "count         1277.000000            326.000000          326.000000   \n",
       "mean         92849.408771          67827.975460        93374.279141   \n",
       "std          66547.920222          54610.217241        56345.386070   \n",
       "min            155.000000              0.000000          622.000000   \n",
       "25%          43872.000000          14284.750000        41525.500000   \n",
       "50%          85645.000000          68181.000000        93387.500000   \n",
       "75%         128037.000000         106882.000000       128940.500000   \n",
       "max         931105.000000         217715.000000       244658.000000   \n",
       "\n",
       "       motorcycle_count  \n",
       "count      13488.000000  \n",
       "mean           1.537589  \n",
       "std            0.614145  \n",
       "min            1.000000  \n",
       "25%            1.000000  \n",
       "50%            1.000000  \n",
       "75%            2.000000  \n",
       "max            4.000000  "
      ]
     },
     "execution_count": 5,
     "metadata": {},
     "output_type": "execute_result"
    }
   ],
   "source": [
    "df.describe()\n"
   ]
  },
  {
   "cell_type": "code",
   "execution_count": 6,
   "metadata": {},
   "outputs": [
    {
     "name": "stdout",
     "output_type": "stream",
     "text": [
      "entries:  13486\n"
     ]
    },
    {
     "data": {
      "image/png": "[encoded data removed]",
      "text/plain": [
       "<Figure size 1800x1080 with 1 Axes>"
      ]
     },
     "metadata": {
      "needs_background": "light"
     },
     "output_type": "display_data"
    }
   ],
   "source": [
    "# We consider that above 10 million km is a lot\n",
    "df = df.loc[(df.loc[:, 'baseline_motorcycle1':'update_motorcycle4'].fillna(0) < 10**7).all(axis=1)]\n",
    "print(\"entries: \", len(df))\n",
    "\n",
    "plt.rcParams['figure.figsize'] = [25, 15]\n",
    "df.boxplot(column=['baseline_motorcycle1', 'update_motorcycle1', 'baseline_motorcycle2',  'update_motorcycle2','baseline_motorcycle3',  'update_motorcycle3', 'baseline_motorcycle4','update_motorcycle4'])\n",
    "plt.title(\"Distribution of the kilometers of each motorcycle in both versions of the policies\")\n",
    "plt.ylabel(\"Kilometers\")\n",
    "plt.show()"
   ]
  },
  {
   "cell_type": "markdown",
   "metadata": {},
   "source": [
    "### 2.4"
   ]
  },
  {
   "cell_type": "markdown",
   "metadata": {},
   "source": [
    "If we couldn't remove outliers, it would be preferable to summarize data using the median. Indeed the median is robust to outliers whereas the mean isn't.\n"
   ]
  },
  {
   "cell_type": "markdown",
   "metadata": {},
   "source": [
    "### Task 3 — 12pts\n",
    "\n",
    "One of the challenges with the current data is that it is not clear how to handle policies with multiple motorcycles.\n",
    "\n",
    "1. Create three additional columns in the dataframe, `baseline_average`, `update_average`, and `diff_average`. These \n",
    "should contain, respectively, the average value for `baseline_motorcycle[1-4]` for all motorcycles insured; the average\n",
    " value for `update_motorcycle[1-4]`; and the difference between the average updated value and the average baseline \n",
    " value.\n",
    "2. **Discuss:** Propose another way of aggregating distinct motorcycles from a single policy. Point out a way in which \n",
    "this aggregation may be either better or worse than taking the average for the purpose of comparing the two scenarios in\n",
    " the study (sign at the top vs. sign at the bottom).\n",
    "3. To get a sense of the impact that policies with multiple motorcycles may have in the study, let's perform some \n",
    "additional analyses. Plot the distribution of motorcycles per policy in the data. Your plot should allow for the \n",
    "meaningful comparison of the values shown.\n",
    "4. In 3.1, you calculated the average kilometrage for each policy for the updated contract. Calculate the mean and the \n",
    "standard deviation of these values (which should be in the column `update_average`).\n",
    "5. Another meaningful metric is the average kilometrage **per motorcycle**, not distinguishing motorcycles in different \n",
    "policies (i.e., pooled across policies). **Considering only policies with 4 motorcycles insured,** calculate the mean \n",
    "and the standard deviation of the kilometrage per motorcycle in the updated contract.\n",
    "6. **Discuss:** To analyze whether signing at the top decreases dishonesty, we could consider the data in different \n",
    "ways. We could first calculate the average value per motorcycle within each policy and have one data point per policy \n",
    "**or** we could analyze the data at the motorcycle level and have one data point per motorcycle in the dataset. \n",
    "According to questions 3.4 and 3.5, how may this decision influence the results of the study?\n",
    "---"
   ]
  },
  {
   "cell_type": "markdown",
   "metadata": {},
   "source": [
    "### 3.1"
   ]
  },
  {
   "cell_type": "code",
   "execution_count": 7,
   "metadata": {},
   "outputs": [],
   "source": [
    "df['baseline_average'] = df[['baseline_motorcycle1', 'baseline_motorcycle2', 'baseline_motorcycle3', 'baseline_motorcycle4']].mean(axis=1, skipna=True)\n",
    "df['update_average'] = df[['update_motorcycle1', 'update_motorcycle2', 'update_motorcycle3', 'update_motorcycle4']].mean(axis=1, skipna=True)\n",
    "df['diff_average'] = df['update_average'] - df['baseline_average']"
   ]
  },
  {
   "cell_type": "markdown",
   "metadata": {},
   "source": [
    "### 3.2"
   ]
  },
  {
   "cell_type": "markdown",
   "metadata": {},
   "source": [
    "We could aggregate on the median of the motorcyles in each policy instead of the mean, because it is a more robust indicator to the outliers."
   ]
  },
  {
   "cell_type": "markdown",
   "metadata": {},
   "source": [
    "### 3.3"
   ]
  },
  {
   "cell_type": "code",
   "execution_count": 8,
   "metadata": {},
   "outputs": [
    {
     "data": {
      "image/png": "[encoded data removed]",
      "text/plain": [
       "<Figure size 504x504 with 1 Axes>"
      ]
     },
     "metadata": {
      "needs_background": "light"
     },
     "output_type": "display_data"
    }
   ],
   "source": [
    "val, count = np.unique(df['motorcycle_count'], return_counts=True)\n",
    "plt.rcParams['figure.figsize'] = [7, 7]\n",
    "sns.barplot(x = val, y = count)\n",
    "plt.xlabel('Number of motorcycles')\n",
    "plt.ylabel('Count')\n",
    "plt.title('Motorcycles per policy')\n",
    "plt.show()"
   ]
  },
  {
   "cell_type": "markdown",
   "metadata": {},
   "source": [
    "### 3.4"
   ]
  },
  {
   "cell_type": "code",
   "execution_count": 9,
   "metadata": {},
   "outputs": [
    {
     "name": "stdout",
     "output_type": "stream",
     "text": [
      "Updated values :\n",
      "Mean: 92166.98 STD : 52212.86 \n"
     ]
    }
   ],
   "source": [
    "print(\"Updated values :\")\n",
    "print(\"Mean: {:.2f} STD : {:.2f} \".format(df['update_average'].mean(),df['update_average'].std()))"
   ]
  },
  {
   "cell_type": "markdown",
   "metadata": {},
   "source": [
    "### 3.5"
   ]
  },
  {
   "cell_type": "code",
   "execution_count": 10,
   "metadata": {},
   "outputs": [
    {
     "name": "stdout",
     "output_type": "stream",
     "text": [
      "Values for all motorcycles on updated policies with 4 cycles : \n",
      "Mean: 113443.86 STD : 82911.91 \n"
     ]
    }
   ],
   "source": [
    "four_cycles = df[df['motorcycle_count']==4]\n",
    "all_four_cycles = np.concatenate((four_cycles['update_motorcycle1'],four_cycles['update_motorcycle2'], four_cycles['update_motorcycle3'], four_cycles['update_motorcycle4']))\n",
    "print(\"Values for all motorcycles on updated policies with 4 cycles : \")\n",
    "print(\"Mean: {:.2f} STD : {:.2f} \".format(all_four_cycles.mean(),all_four_cycles.std()))"
   ]
  },
  {
   "cell_type": "markdown",
   "metadata": {},
   "source": [
    "### 3.6"
   ]
  },
  {
   "cell_type": "markdown",
   "metadata": {},
   "source": [
    "Analyzing the data at the policy level would allow us to study the behavior of the customer more precisely, because every choice of lying or not is general for a policy and not to a specific motorcycle.\n",
    "However, if a customer were to lie on a single motorcyle, taking the average would hide the lie on the other ones. Also, the mean isn't robust to outliers."
   ]
  },
  {
   "cell_type": "markdown",
   "metadata": {},
   "source": [
    "### Task 4 — 18pts\n",
    "\n",
    "Now that we have compressed the kilometrage reported in each contract into a single number, it is time to analyze the \n",
    "million-dollar question: *does signing at the top decrease dishonesty?*\n",
    "\n",
    "1. Considering the updated contracts, calculate the mean and the standard deviation of the average kilometrage in a) \n",
    "policies where the signing was done at the bottom; and b) policies where the signing was done at the top. Additionally,\n",
    "plot the two kilometrage distributions.\n",
    "2. Determine whether the difference between the two scenarios mentioned in 1. is statistically significant.\n",
    "3. **Discuss:** Recall that the assignment of the different contracts (*sign at the top* vs. *sign at the bottom*) was \n",
    "done at random. According to the results in 1. and 2., does signing at the top decrease dishonesty? \n",
    "4.  **Discuss:** Given that no intervention was performed in the baseline contract (i.e., everyone signed at the \n",
    "bottom). Would you expect any differences between the average values between *sign at the top* vs. *sign at the bottom*\n",
    " conditions for the baseline contract? Note that this is related to columns `baseline_motorcycle[1-4]`.\n",
    "5. Calculate the mean and the standard deviation for the baseline contracts of the two groups (sign at the top vs. sign \n",
    "at the bottom). Additionally, plot the two kilometrage distributions.\n",
    "6. Determine whether the difference between the two scenarios mentioned in 5. is statistically significant.\n",
    "\n",
    "---\n",
    "\n",
    "**Hint:** Recall that the column `condition` encodes the experimental condition in which the customer fell when \n",
    "reporting the values shown in columns `update_motorcycle[1-4]`!\n",
    "\n",
    "**Hint:** To determine if the means of two sets of data are significantly different from each other, you may want to use\n",
    " the `ttest_ind` function implemented in the \n",
    " [scipy library](https://docs.scipy.org/doc/scipy/reference/generated/scipy.stats.ttest_ind.html). To learn more about \n",
    " Student's t-test, check out this [Wikipedia page](https://en.wikipedia.org/wiki/Student%27s_t-test)."
   ]
  },
  {
   "cell_type": "markdown",
   "metadata": {},
   "source": [
    "### 4.1"
   ]
  },
  {
   "cell_type": "code",
   "execution_count": 11,
   "metadata": {},
   "outputs": [
    {
     "name": "stdout",
     "output_type": "stream",
     "text": [
      "For updated contracts :\n",
      "Mean Top : 85794.62    Mean Bottom : 98692.36 \n",
      "STD Top : 51704.29     STD Bottom : 51928.18 \n"
     ]
    }
   ],
   "source": [
    "update_top = df[df['condition']== 'Sign Top']['update_average']\n",
    "update_bottom = df[df['condition']== 'Sign Bottom']['update_average']\n",
    "std_update_top = update_top.std()\n",
    "std_update_bottom = update_bottom.std()\n",
    "mean_update_top = update_top.mean()\n",
    "mean_update_bottom = update_bottom.mean()\n",
    "print('For updated contracts :')\n",
    "print(\"Mean Top : {:.2f}    Mean Bottom : {:.2f} \".format(mean_update_top, mean_update_bottom))\n",
    "print(\"STD Top : {:.2f}     STD Bottom : {:.2f} \".format(std_update_top, std_update_bottom))"
   ]
  },
  {
   "cell_type": "code",
   "execution_count": 12,
   "metadata": {},
   "outputs": [
    {
     "data": {
      "image/png": "[encoded data removed]",
      "text/plain": [
       "<Figure size 504x504 with 1 Axes>"
      ]
     },
     "metadata": {
      "needs_background": "light"
     },
     "output_type": "display_data"
    }
   ],
   "source": [
    "sns.boxplot(x='condition', y='update_average', data=df)\n",
    "plt.ylim(0, 600000)\n",
    "plt.title('Kilometrage distribution for updated contract')\n",
    "plt.xlabel('Condition')\n",
    "plt.ylabel('Kilometers')\n",
    "plt.show()"
   ]
  },
  {
   "cell_type": "markdown",
   "metadata": {},
   "source": [
    "### 4.2"
   ]
  },
  {
   "cell_type": "code",
   "execution_count": 13,
   "metadata": {
    "scrolled": false
   },
   "outputs": [
    {
     "name": "stdout",
     "output_type": "stream",
     "text": [
      "Hypothesis that the updated values come from the same population : \n",
      "\n",
      " Ttest_indResult(statistic=-14.452368101354606, pvalue=5.435352130291242e-47)\n"
     ]
    }
   ],
   "source": [
    "print(\"Hypothesis that the updated values come from the same population : \\n\\n\", stats.ttest_ind(update_top, update_bottom) )"
   ]
  },
  {
   "cell_type": "markdown",
   "metadata": {},
   "source": [
    "The p-value is smaller than 0.05, thus we can reject the null hypothesis that the two groups of motorcycles are equal. To conclude, we can assume that the difference between the two scenarios is statistically significant."
   ]
  },
  {
   "cell_type": "markdown",
   "metadata": {},
   "source": [
    "### 4.3"
   ]
  },
  {
   "cell_type": "markdown",
   "metadata": {},
   "source": [
    "\n",
    "\n",
    "We can see in the histogram that it looks like the population of top signers have motorcycles with less kilometers.\n",
    "\n",
    "Looking only at the mean values and the test result, we could think that signing top does not decrease dishonesty, although we can not conclude anything since the standard deviation is very high so the error margins are overlapping."
   ]
  },
  {
   "cell_type": "markdown",
   "metadata": {},
   "source": [
    "### 4.4"
   ]
  },
  {
   "cell_type": "markdown",
   "metadata": {},
   "source": [
    "On the baseline contracts, we don't expect to see any significant differences between the two conditions since we assume that the signature on the updated contracts is the only difference between the two populations. "
   ]
  },
  {
   "cell_type": "markdown",
   "metadata": {},
   "source": [
    "### 4.5"
   ]
  },
  {
   "cell_type": "code",
   "execution_count": 14,
   "metadata": {},
   "outputs": [
    {
     "name": "stdout",
     "output_type": "stream",
     "text": [
      "For baseline contracts :\n",
      "Mean Top : 59696.23    Mean Bottom : 75020.75 \n",
      "STD Top : 49956.32     STD Bottom : 50256.59 \n"
     ]
    }
   ],
   "source": [
    "base_top = df[df['condition']== 'Sign Top']['baseline_average']\n",
    "base_bottom = df[df['condition']== 'Sign Bottom']['baseline_average']\n",
    "std_base_top = base_top.std()\n",
    "std_base_bottom = base_bottom.std()\n",
    "mean_base_top = base_top.mean()\n",
    "mean_base_bottom = base_bottom.mean()\n",
    "\n",
    "print('For baseline contracts :')\n",
    "print(\"Mean Top : {:.2f}    Mean Bottom : {:.2f} \".format(mean_base_top, mean_base_bottom))\n",
    "print(\"STD Top : {:.2f}     STD Bottom : {:.2f} \".format(std_base_top, std_base_bottom))"
   ]
  },
  {
   "cell_type": "code",
   "execution_count": 15,
   "metadata": {},
   "outputs": [
    {
     "data": {
      "image/png": "[encoded data removed]",
      "text/plain": [
       "<Figure size 504x504 with 1 Axes>"
      ]
     },
     "metadata": {
      "needs_background": "light"
     },
     "output_type": "display_data"
    }
   ],
   "source": [
    "sns.boxplot(x='condition', y='baseline_average', data=df)\n",
    "plt.ylim(0,600000)\n",
    "plt.title('Kilometrage distribution for baseline contracts')\n",
    "plt.xlabel('Condition')\n",
    "plt.ylabel('Kilometers')\n",
    "plt.show()"
   ]
  },
  {
   "cell_type": "markdown",
   "metadata": {},
   "source": [
    "### 4.6"
   ]
  },
  {
   "cell_type": "code",
   "execution_count": 16,
   "metadata": {},
   "outputs": [
    {
     "name": "stdout",
     "output_type": "stream",
     "text": [
      "Hypothesis that the updated values come from the same population : \n",
      "\n",
      " Ttest_indResult(statistic=-17.75773299430071, pvalue=9.333114026345824e-70)\n"
     ]
    }
   ],
   "source": [
    "print(\"Hypothesis that the updated values come from the same population : \\n\\n\", stats.ttest_ind(base_top, base_bottom) )"
   ]
  },
  {
   "cell_type": "markdown",
   "metadata": {},
   "source": [
    "Oddly enough, we also have to reject the null hypothesis that the motorcycles in the baseline contract are equal mean between the groups, wich points us towards the fact that the data is skewed."
   ]
  },
  {
   "cell_type": "markdown",
   "metadata": {},
   "source": [
    "## Interlude: Something is dodgy about this data...\n",
    "\n",
    "---\n",
    "\n",
    "Noticing the oddities in the data, you send an email to your contact at the insurance company asking about the integrity\n",
    " of the data. Their reply seems like something out of a detective movie:\n",
    "\n",
    "> Dear researcher, I believe that this data is not to be trusted. I can't talk right now but will send further hints \n",
    ">throughout the week.\n",
    "\n",
    "As a researcher, you know that [data integrity](https://en.wikipedia.org/wiki/Data_integrity) is a big deal, and decide\n",
    " to investigate."
   ]
  },
  {
   "cell_type": "markdown",
   "metadata": {},
   "source": [
    "### Task 5 — 9pts\n",
    "\n",
    "The first hint you receive is: *there is something off about the kilometrage values in the data.*\n",
    "\n",
    "1. For the baseline contract and for the updated contract, plot the distribution of odometer kilometrage reported for \n",
    "the first motorcycle insured in each policy. \n",
    "2. For the first motorcycle insured by the company in each policy, plot the difference between the number of kilometers\n",
    " reported in the baseline and in the updated contract.\n",
    "3. **Discuss:** why is this data unlikely to have originated from real odometer readings?\n",
    "\n",
    "---"
   ]
  },
  {
   "cell_type": "markdown",
   "metadata": {},
   "source": [
    "### 5.1"
   ]
  },
  {
   "cell_type": "code",
   "execution_count": 17,
   "metadata": {},
   "outputs": [
    {
     "data": {
      "image/png": "[encoded data removed]",
      "text/plain": [
       "<Figure size 504x504 with 1 Axes>"
      ]
     },
     "metadata": {
      "needs_background": "light"
     },
     "output_type": "display_data"
    }
   ],
   "source": [
    "base_cycle1 = df['baseline_motorcycle1']\n",
    "update_cycle1 = df['update_motorcycle1']\n",
    "\n",
    "plt.hist(x=[base_cycle1, update_cycle1], bins=100, label=[\"Baseline\", \"Update\"])\n",
    "plt.xlim(0, 400000)\n",
    "plt.xlabel(\"Kilometers\")\n",
    "plt.ylabel(\"Count\")\n",
    "plt.title(\"Distribution of odometers kilometrage for the first motorcyle on the Baseline and Updated Contracts\")\n",
    "plt.legend()\n",
    "plt.show()"
   ]
  },
  {
   "cell_type": "markdown",
   "metadata": {},
   "source": [
    "### 5.2"
   ]
  },
  {
   "cell_type": "code",
   "execution_count": 18,
   "metadata": {},
   "outputs": [
    {
     "data": {
      "image/png": "[encoded data removed]",
      "text/plain": [
       "<Figure size 504x504 with 2 Axes>"
      ]
     },
     "metadata": {
      "needs_background": "light"
     },
     "output_type": "display_data"
    }
   ],
   "source": [
    "fig, ax = plt.subplots(2, 1)\n",
    "diff_cycle1 = update_cycle1 - base_cycle1\n",
    "\n",
    "plt.rcParams['figure.figsize'] = [10, 10]\n",
    "\n",
    "ax[0].hist(diff_cycle1)\n",
    "ax[0].set_title(\"Distribution of the kilometers difference between the updated and the basline odometers\")\n",
    "ax[0].set_xlabel(\"Kilometers difference\")\n",
    "ax[0].set_ylabel(\"Count\")\n",
    "\n",
    "ax[1].boxplot(diff_cycle1)\n",
    "ax[1].set_title(\"Distribution of the kilometers difference between the updated and the basline odometers\")\n",
    "ax[1].set_xticklabels([]) #To remove the '1' in the x axis\n",
    "ax[1].set_ylabel(\"Kilometers difference\")\n",
    "\n",
    "fig.tight_layout()\n",
    "plt.show()"
   ]
  },
  {
   "cell_type": "markdown",
   "metadata": {},
   "source": [
    "### 5.3"
   ]
  },
  {
   "cell_type": "markdown",
   "metadata": {},
   "source": [
    "The data seems perfectly distributed between 0 and 50 000 kms, but we would expect the data to follow a normal distribution instead of a uniform one. Also, there are no outliers in the data and the quartiles are evenly spaced. We see that perfectly in the boxplot, which is a uniform-like boxplot. "
   ]
  },
  {
   "cell_type": "markdown",
   "metadata": {},
   "source": [
    "### Task 6 — 15pts\n",
    "\n",
    "The second hint you receive is: *there is something off with the last digits of the reported kilometrages.*\n",
    "\n",
    "1. Considering the baseline kilometrage of the first motorcycle in each contract (`baseline_motorcycle1`), plot the \n",
    "distribution of occurrences of the last three digits. Repeat the same for the updated kilometrage of the first \n",
    "motorcycle in each contract (`update_motorcycle1`).\n",
    "\n",
    "3. **Discuss:** What are the differences between the two distributions?\n",
    "\n",
    "4. **Discuss:** Hypothesize a **plausible** cause for the patterns observed in the digit distribution of the baseline\n",
    " kilometrage of the first motorcycle.\n",
    "    \n",
    "---\n",
    "\n",
    "**Hint:** The last two digits of the number 12314 are 314. Note that you should consider the three last digits together,\n",
    " not separately!"
   ]
  },
  {
   "cell_type": "markdown",
   "metadata": {},
   "source": [
    "### 6.1"
   ]
  },
  {
   "cell_type": "code",
   "execution_count": 19,
   "metadata": {},
   "outputs": [
    {
     "data": {
      "image/png": "[encoded data removed]",
      "text/plain": [
       "<Figure size 1080x360 with 1 Axes>"
      ]
     },
     "metadata": {
      "needs_background": "light"
     },
     "output_type": "display_data"
    }
   ],
   "source": [
    "base_last3 = base_cycle1 % 1000\n",
    "update_last3 = update_cycle1 % 1000\n",
    "\n",
    "plt.rcParams['figure.figsize'] = [15, 5]\n",
    "plt.hist([base_last3, update_last3], bins=50, label=[\"Baseline contract\", \"Update contract\"])\n",
    "plt.yscale('log') \n",
    "plt.title(\"Distribution of the last three digits of the odometers\")\n",
    "plt.xlabel(\"Last three digits of the odometers\")\n",
    "plt.ylabel(\"Count [log]\") \n",
    "plt.legend()\n",
    "plt.show()"
   ]
  },
  {
   "cell_type": "markdown",
   "metadata": {},
   "source": [
    "### 6.2"
   ]
  },
  {
   "cell_type": "markdown",
   "metadata": {},
   "source": [
    "A lot of motorcycles in the base contract have an odometer whose last three digits read close to 0 while the updated one looks more evenly distributed. For the baseline, there are some spikes at each hundreds and not for the updated ones."
   ]
  },
  {
   "cell_type": "markdown",
   "metadata": {},
   "source": [
    "### 6.3"
   ]
  },
  {
   "cell_type": "markdown",
   "metadata": {},
   "source": [
    "There are two phenomenons to be put forward : \n",
    "Firstly, the spikes may be explained by the people rounding their odometer to the closest hundreds, which is a common human behavior.\n",
    "Secondly, we have seen in the previous task (5.1), that there are a lot of newer and unused motorcycles in the baseline contracts, which could explain the spikes at zero."
   ]
  },
  {
   "cell_type": "markdown",
   "metadata": {},
   "source": [
    "### Task 7 — 15pts\n",
    "\n",
    "The third (and last) hint you receive is: *there is something wrong with the fonts.*\n",
    "\n",
    "Your anonymous source explains that the `.tsv` file sent to you was derived from an Excel sheet. There, some of the rows\n",
    " were written in the font *Helvetica* while others were written in the font *Arial*. Your anonymous source sends you a \n",
    " file with the relation between policy id and the font used in the respective row (`fonts.csv`), and tells you that the\n",
    "  rows with *Helvetica* font were fabricated.\n",
    "\n",
    "1. Load `fonts.csv` and merge the `font` column into your pandas dataframe.\n",
    "2. Considering only the kilometrage of the first motorcycle in each policy, calculate the number of rows with the Arial \n",
    "and the Helvetica font, respectively. Also, plot the distribution of baseline kilometers for rows with the Arial font \n",
    "and for rows with the Helvetica font.\n",
    "3. Similar to what was done in task 6. Plot the distribution of the last three digits for 1) the first motorcycle in \n",
    "each baseline contract (`baseline_motorcycle1`); and 2) the first motorcycle in each updated contract\n",
    " (`update_motorcycle1`).\n",
    "4. **Discuss:** Why do these analyses provide evidence that the rows with Helvetica font were fabricated?\n",
    "\n",
    "---"
   ]
  },
  {
   "cell_type": "markdown",
   "metadata": {},
   "source": [
    "### 7.1"
   ]
  },
  {
   "cell_type": "code",
   "execution_count": 20,
   "metadata": {
    "scrolled": true
   },
   "outputs": [
    {
     "data": {
      "text/html": [
       "<div>\n",
       "<style scoped>\n",
       "    .dataframe tbody tr th:only-of-type {\n",
       "        vertical-align: middle;\n",
       "    }\n",
       "\n",
       "    .dataframe tbody tr th {\n",
       "        vertical-align: top;\n",
       "    }\n",
       "\n",
       "    .dataframe thead th {\n",
       "        text-align: right;\n",
       "    }\n",
       "</style>\n",
       "<table border=\"1\" class=\"dataframe\">\n",
       "  <thead>\n",
       "    <tr style=\"text-align: right;\">\n",
       "      <th></th>\n",
       "      <th>condition</th>\n",
       "      <th>id</th>\n",
       "      <th>baseline_motorcycle1</th>\n",
       "      <th>update_motorcycle1</th>\n",
       "      <th>baseline_motorcycle2</th>\n",
       "      <th>update_motorcycle2</th>\n",
       "      <th>baseline_motorcycle3</th>\n",
       "      <th>update_motorcycle3</th>\n",
       "      <th>baseline_motorcycle4</th>\n",
       "      <th>update_motorcycle4</th>\n",
       "      <th>motorcycle_count</th>\n",
       "      <th>baseline_average</th>\n",
       "      <th>update_average</th>\n",
       "      <th>diff_average</th>\n",
       "      <th>font</th>\n",
       "    </tr>\n",
       "  </thead>\n",
       "  <tbody>\n",
       "    <tr>\n",
       "      <th>0</th>\n",
       "      <td>Sign Top</td>\n",
       "      <td>1</td>\n",
       "      <td>896</td>\n",
       "      <td>39198</td>\n",
       "      <td>NaN</td>\n",
       "      <td>NaN</td>\n",
       "      <td>NaN</td>\n",
       "      <td>NaN</td>\n",
       "      <td>NaN</td>\n",
       "      <td>NaN</td>\n",
       "      <td>1</td>\n",
       "      <td>896.0</td>\n",
       "      <td>39198.0</td>\n",
       "      <td>38302.0</td>\n",
       "      <td>Helvetica</td>\n",
       "    </tr>\n",
       "    <tr>\n",
       "      <th>1</th>\n",
       "      <td>Sign Bottom</td>\n",
       "      <td>2</td>\n",
       "      <td>21396</td>\n",
       "      <td>63511</td>\n",
       "      <td>32659.0</td>\n",
       "      <td>47605.0</td>\n",
       "      <td>NaN</td>\n",
       "      <td>NaN</td>\n",
       "      <td>NaN</td>\n",
       "      <td>NaN</td>\n",
       "      <td>2</td>\n",
       "      <td>27027.5</td>\n",
       "      <td>55558.0</td>\n",
       "      <td>28530.5</td>\n",
       "      <td>Helvetica</td>\n",
       "    </tr>\n",
       "    <tr>\n",
       "      <th>2</th>\n",
       "      <td>Sign Bottom</td>\n",
       "      <td>3</td>\n",
       "      <td>21340</td>\n",
       "      <td>37460</td>\n",
       "      <td>44998.0</td>\n",
       "      <td>59002.0</td>\n",
       "      <td>NaN</td>\n",
       "      <td>NaN</td>\n",
       "      <td>NaN</td>\n",
       "      <td>NaN</td>\n",
       "      <td>2</td>\n",
       "      <td>33169.0</td>\n",
       "      <td>48231.0</td>\n",
       "      <td>15062.0</td>\n",
       "      <td>Helvetica</td>\n",
       "    </tr>\n",
       "    <tr>\n",
       "      <th>3</th>\n",
       "      <td>Sign Bottom</td>\n",
       "      <td>4</td>\n",
       "      <td>23912</td>\n",
       "      <td>59136</td>\n",
       "      <td>NaN</td>\n",
       "      <td>NaN</td>\n",
       "      <td>NaN</td>\n",
       "      <td>NaN</td>\n",
       "      <td>NaN</td>\n",
       "      <td>NaN</td>\n",
       "      <td>1</td>\n",
       "      <td>23912.0</td>\n",
       "      <td>59136.0</td>\n",
       "      <td>35224.0</td>\n",
       "      <td>Helvetica</td>\n",
       "    </tr>\n",
       "    <tr>\n",
       "      <th>4</th>\n",
       "      <td>Sign Bottom</td>\n",
       "      <td>5</td>\n",
       "      <td>16862</td>\n",
       "      <td>59292</td>\n",
       "      <td>NaN</td>\n",
       "      <td>NaN</td>\n",
       "      <td>NaN</td>\n",
       "      <td>NaN</td>\n",
       "      <td>NaN</td>\n",
       "      <td>NaN</td>\n",
       "      <td>1</td>\n",
       "      <td>16862.0</td>\n",
       "      <td>59292.0</td>\n",
       "      <td>42430.0</td>\n",
       "      <td>Arial</td>\n",
       "    </tr>\n",
       "  </tbody>\n",
       "</table>\n",
       "</div>"
      ],
      "text/plain": [
       "     condition  id  baseline_motorcycle1  update_motorcycle1  \\\n",
       "0     Sign Top   1                   896               39198   \n",
       "1  Sign Bottom   2                 21396               63511   \n",
       "2  Sign Bottom   3                 21340               37460   \n",
       "3  Sign Bottom   4                 23912               59136   \n",
       "4  Sign Bottom   5                 16862               59292   \n",
       "\n",
       "   baseline_motorcycle2  update_motorcycle2  baseline_motorcycle3  \\\n",
       "0                   NaN                 NaN                   NaN   \n",
       "1               32659.0             47605.0                   NaN   \n",
       "2               44998.0             59002.0                   NaN   \n",
       "3                   NaN                 NaN                   NaN   \n",
       "4                   NaN                 NaN                   NaN   \n",
       "\n",
       "   update_motorcycle3  baseline_motorcycle4  update_motorcycle4  \\\n",
       "0                 NaN                   NaN                 NaN   \n",
       "1                 NaN                   NaN                 NaN   \n",
       "2                 NaN                   NaN                 NaN   \n",
       "3                 NaN                   NaN                 NaN   \n",
       "4                 NaN                   NaN                 NaN   \n",
       "\n",
       "   motorcycle_count  baseline_average  update_average  diff_average       font  \n",
       "0                 1             896.0         39198.0       38302.0  Helvetica  \n",
       "1                 2           27027.5         55558.0       28530.5  Helvetica  \n",
       "2                 2           33169.0         48231.0       15062.0  Helvetica  \n",
       "3                 1           23912.0         59136.0       35224.0  Helvetica  \n",
       "4                 1           16862.0         59292.0       42430.0      Arial  "
      ]
     },
     "execution_count": 20,
     "metadata": {},
     "output_type": "execute_result"
    }
   ],
   "source": [
    "fonts = pd.read_csv((data_folder + 'fonts.csv'), error_bad_lines=False)\n",
    "fonts.drop_duplicates(keep='first', inplace=True)\n",
    "df_fonts = df.merge(fonts, on='id')\n",
    "df_fonts.head()\n"
   ]
  },
  {
   "cell_type": "markdown",
   "metadata": {},
   "source": [
    "### 7.2"
   ]
  },
  {
   "cell_type": "code",
   "execution_count": 21,
   "metadata": {},
   "outputs": [
    {
     "name": "stdout",
     "output_type": "stream",
     "text": [
      "Helvetica rows:  6742 Arial rows:  6744\n"
     ]
    },
    {
     "data": {
      "image/png": "[encoded data removed]",
      "text/plain": [
       "<Figure size 1080x360 with 1 Axes>"
      ]
     },
     "metadata": {
      "needs_background": "light"
     },
     "output_type": "display_data"
    }
   ],
   "source": [
    "helv_first = df_fonts[df_fonts['font']=='Helvetica']['baseline_motorcycle1']\n",
    "arial_first = df_fonts[df_fonts['font']=='Arial']['baseline_motorcycle1']\n",
    "\n",
    "plt.hist([helv_first, arial_first], bins = 50, label=[\"Helvetica\", \"Arial\"])\n",
    "plt.xlim(0, 400000)\n",
    "plt.legend()\n",
    "print(\"Helvetica rows: \", len(helv_first), \"Arial rows: \", len(arial_first))\n",
    "plt.xlabel(\"Kilometers\")\n",
    "plt.ylabel(\"Count\")\n",
    "plt.title(\"Distribution of kilometers according to fonts\")\n",
    "plt.show()"
   ]
  },
  {
   "cell_type": "markdown",
   "metadata": {},
   "source": [
    "### 7.3"
   ]
  },
  {
   "cell_type": "code",
   "execution_count": 22,
   "metadata": {},
   "outputs": [
    {
     "data": {
      "image/png": "[encoded data removed]",
      "text/plain": [
       "<Figure size 1080x360 with 1 Axes>"
      ]
     },
     "metadata": {
      "needs_background": "light"
     },
     "output_type": "display_data"
    }
   ],
   "source": [
    "helv_first = helv_first % 1000\n",
    "arial_first = arial_first % 1000\n",
    "\n",
    "helv_update = df_fonts.loc[df_fonts['font']=='Helvetica']['update_motorcycle1']\n",
    "arial_update = df_fonts.loc[df_fonts['font']=='Arial']['update_motorcycle1']\n",
    "\n",
    "helv_update = helv_update % 1000\n",
    "arial_update = arial_update % 1000\n",
    "\n",
    "plt.rcParams['figure.figsize'] = [15, 5]\n",
    "plt.hist([helv_first, arial_first, helv_update, arial_update], bins=30, label=[\"Helvetica contract baseline\", \"Arial contract baseline\", \"Helvetica contract update\", \"Arial contract update\"])\n",
    "plt.yscale('log')\n",
    "plt.title(\"Distribution of the last three digits of the odometers according to the Font and the version of the Contract\")\n",
    "plt.xlabel(\"Last three digits of the odometers\")\n",
    "plt.ylabel(\"Count [log]\")\n",
    "plt.legend()\n",
    "plt.show()"
   ]
  },
  {
   "cell_type": "markdown",
   "metadata": {},
   "source": [
    "### 7.4\n",
    "The spikes that we spotted around zero of the last three digits (6.1) in the baseline contracts, should not be from only a single font. Indeed, we see on the previous plot (7.2) that the distribution of the overall kilometrage is the same for the two fonts, so that doesn't make any sense."
   ]
  },
  {
   "cell_type": "markdown",
   "metadata": {},
   "source": [
    "### Task 8 — 15pts\n",
    "\n",
    "You've had enough! You decide to write an email to your PI (principal investigator, also known as \"your boss\") reporting\n",
    " the oddities you have observed in the data. Write a (brief) text (in markdown) of up to 300 words. Your text should:\n",
    "\n",
    "- Use the analyses you did to make a convincing case that the data has been tampered with. \n",
    "- Grounded in your analyses, provide a plausible hypothesis about how the data has been tampered with.\n",
    "- Discuss whether the data leads to the conclusion that signing at the top decreases dishonesty.\n",
    "\n",
    "Structure your text into three bullets, analogous to the ones above.\n",
    "\n",
    "You can reference images present in the notebook by indicating a task (e.g., image plotted in Task 3.3) or a cell \n",
    "number.\n",
    "\n",
    "Note that you do not need to conduct any additional analysis to write this text. If you do, the code should be at the \n",
    "end of this notebook, i.e., after your answer.\n",
    "\n",
    "---\n",
    "\n",
    "**Hint:** The data has been tampered with in more than one way."
   ]
  },
  {
   "cell_type": "markdown",
   "metadata": {},
   "source": [
    "- First, rejecting the hypothesis that the data comes from the same population for the baseline contract is very suspicious (4.6). Secondly, by looking at the difference of the odometer between the updated and the baseline contract for the first motorbike, we can see a uniform distribution from 0 to 50000 and no outlier at all (5.2). We would expect a normal distribution. Then, we can see that in the baseline contract there was a trend to round the odometer (6.3). Nothing surprising, it is a normal human behavior. But then why can't we notice the same phenomenon in the updated contract? Probably because those data do not come from a human. Finally, I discovered that there were two different fonts in the data and separating both, they have the same distribution, but a significant difference lies between them when we look at the three last digits : a huge peak at zero and a smaller one at 500 for the Arial font for the baseline contract but nothing particular for the Helvetica (7.2 and 7.3). This shows that the baseline Helvetica are probably fabricated.\n",
    "\n",
    "\n",
    "- I think that more than half of the data were created. First, the updated data were made for the difference between the updated and the baseline odometer to fit a uniform distribution from 0 to 50 000. I also think that the baseline data are not all authentic. It seems that they were duplicated : the values are slightly different (on the last three digits) but they both have the same distribution at large scale. \n",
    "\n",
    "\n",
    "- As for the honesty experiment, it is hard to obtain certain result with tampered in data. If we forget about all those oddities, we have some contradiction in the statistic tests, thus we cannot conclude anything.\n",
    " \n",
    " "
   ]
  }
 ],
 "metadata": {
  "kernelspec": {
   "display_name": "Python 3",
   "language": "python",
   "name": "python3"
  },
  "language_info": {
   "codemirror_mode": {
    "name": "ipython",
    "version": 3
   },
   "file_extension": ".py",
   "mimetype": "text/x-python",
   "name": "python",
   "nbconvert_exporter": "python",
   "pygments_lexer": "ipython3",
   "version": "3.8.8"
  },
  "pycharm": {
   "stem_cell": {
    "cell_type": "raw",
    "metadata": {
     "collapsed": false
    },
    "source": []
   }
  }
 },
 "nbformat": 4,
 "nbformat_minor": 1
}
